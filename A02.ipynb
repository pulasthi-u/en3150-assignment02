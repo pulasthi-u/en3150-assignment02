{
 "cells": [
  {
   "cell_type": "markdown",
   "id": "2606f853",
   "metadata": {},
   "source": [
    "### Assignment 02"
   ]
  },
  {
   "cell_type": "code",
   "execution_count": 54,
   "id": "f65673e9",
   "metadata": {},
   "outputs": [],
   "source": [
    "# Import the relevant libraries and modules\n",
    "import numpy as np\n",
    "import matplotlib.pyplot as plt\n",
    "import seaborn as sns\n",
    "import pandas as pd\n",
    "from sklearn.model_selection import train_test_split\n",
    "from sklearn.preprocessing import LabelEncoder, OneHotEncoder\n",
    "from sklearn.linear_model import LogisticRegression\n",
    "from sklearn.metrics import accuracy_score\n",
    "from sklearn.datasets import make_blobs"
   ]
  },
  {
   "cell_type": "markdown",
   "id": "9c175538",
   "metadata": {},
   "source": [
    "#### 02 - Logistic Regression"
   ]
  },
  {
   "cell_type": "code",
   "execution_count": 55,
   "id": "aeb54404",
   "metadata": {},
   "outputs": [
    {
     "name": "stdout",
     "output_type": "stream",
     "text": [
      "       species  class_encoded\n",
      "0       Adelie              0\n",
      "1       Adelie              0\n",
      "2       Adelie              0\n",
      "4       Adelie              0\n",
      "5       Adelie              0\n",
      "..         ...            ...\n",
      "215  Chinstrap              1\n",
      "216  Chinstrap              1\n",
      "217  Chinstrap              1\n",
      "218  Chinstrap              1\n",
      "219  Chinstrap              1\n",
      "\n",
      "[214 rows x 2 columns]\n"
     ]
    }
   ],
   "source": [
    "# Load the penguins dataset\n",
    "df = sns.load_dataset(\"penguins\")\n",
    "df.dropna(inplace=True)\n",
    "\n",
    "# Filter rows for 'Adelie' and 'Chinstrap' classes\n",
    "selected_classes = ['Adelie', 'Chinstrap']\n",
    "df_filtered = df[df['species'].isin(selected_classes)].copy() # Make a copy to avoid the warning\n",
    "\n",
    "le = LabelEncoder() # Initialize the LabelEncoder\n",
    "\n",
    "# Encode the species column\n",
    "y_encoded = le.fit_transform(df_filtered['species'])\n",
    "df_filtered['class_encoded'] = y_encoded\n",
    "\n",
    "# Display the filtered and encoded DataFrame\n",
    "print (df_filtered[['species', 'class_encoded']])\n",
    "\n",
    "# Split the data into features (X) and target variable (y)\n",
    "y = df_filtered['class_encoded']\n",
    "\n",
    "# X = df_filtered.drop(['class_encoded'], axis=1)   <---    Causes error. Modified below:\n",
    "\n",
    "X_ = df_filtered.drop(['species', 'sex', 'class_encoded'], axis=1)\n",
    "\n",
    "# Form X_1 by one-hot encoding the island names and including them as new features\n",
    "ohe = OneHotEncoder(sparse_output=False, drop='first', handle_unknown='ignore')\n",
    "islands_encoded = ohe.fit_transform(X_[['island']])\n",
    "X_1 = pd.concat(\n",
    "    [\n",
    "        X_.drop('island', axis=1).reset_index(drop=True),\n",
    "        pd.DataFrame(islands_encoded, columns=ohe.get_feature_names_out(['island']))\n",
    "    ], axis=1\n",
    ")\n",
    "\n",
    "# Form X_2 by simply dropping the 'island' column\n",
    "X_2 = X_.drop(['island'], axis=1)"
   ]
  },
  {
   "cell_type": "code",
   "execution_count": 56,
   "id": "fbc38301",
   "metadata": {},
   "outputs": [
    {
     "name": "stdout",
     "output_type": "stream",
     "text": [
      "Accuracy : 0.5813953488372093\n",
      "[[ 2.74780852e-03 -8.22539291e-05  4.56503557e-04 -2.86130682e-04]] [-8.47320614e-06]\n"
     ]
    },
    {
     "name": "stderr",
     "output_type": "stream",
     "text": [
      "d:\\UoM\\Semester 5\\EN3150 - Pattern Recognition\\Assignment 02\\.venv\\Lib\\site-packages\\sklearn\\linear_model\\_sag.py:348: ConvergenceWarning: The max_iter was reached which means the coef_ did not converge\n",
      "  warnings.warn(\n"
     ]
    }
   ],
   "source": [
    "# Split the data into training and testing sets\n",
    "X_train, X_test, y_train, y_test = train_test_split (X_2, y, test_size=0.2, random_state=42)\n",
    "\n",
    "# Train the logistic regression model. Here we use sagasolver to learn weights.\n",
    "logreg = LogisticRegression(solver='saga')\n",
    "logreg.fit(X_train, y_train)\n",
    "\n",
    "# Predict on the testing data\n",
    "y_pred = logreg.predict(X_test)\n",
    "\n",
    "# Evaluate the model\n",
    "accuracy = accuracy_score(y_test, y_pred)\n",
    "print (\"Accuracy :\", accuracy)\n",
    "print (logreg.coef_, logreg.intercept_)"
   ]
  },
  {
   "cell_type": "code",
   "execution_count": 57,
   "id": "9f100a12",
   "metadata": {},
   "outputs": [
    {
     "name": "stdout",
     "output_type": "stream",
     "text": [
      "Accuracy : 1.0\n",
      "[[ 1.59665154 -1.42501103 -0.15238046 -0.003951  ]] [-0.0755452]\n"
     ]
    }
   ],
   "source": [
    "# Train the logistic regression model again; this time we use liblinear to learn the weights.\n",
    "logreg = LogisticRegression(solver='liblinear')\n",
    "logreg.fit(X_train, y_train)\n",
    "\n",
    "# Predict on the testing data\n",
    "y_pred = logreg.predict(X_test)\n",
    "\n",
    "# Evaluate the model\n",
    "accuracy = accuracy_score(y_test, y_pred)\n",
    "print (\"Accuracy :\", accuracy)\n",
    "print (logreg.coef_, logreg.intercept_)"
   ]
  },
  {
   "cell_type": "markdown",
   "id": "ac452957",
   "metadata": {},
   "source": [
    "#### 03 - First and Second Order Methods for Logistic Regression"
   ]
  },
  {
   "cell_type": "code",
   "execution_count": 58,
   "id": "4d6e1bfd",
   "metadata": {},
   "outputs": [],
   "source": [
    "# Generate synthetic data\n",
    "np.random.seed(0)\n",
    "centers = [[-5, 0], [5, 1.5]]\n",
    "X, y = make_blobs(n_samples=2000, centers=centers, random_state=5)\n",
    "transformation = [[0.5, 0.5], [-0.5, 1.5]]\n",
    "X = np.dot(X, transformation)"
   ]
  }
 ],
 "metadata": {
  "kernelspec": {
   "display_name": ".venv",
   "language": "python",
   "name": "python3"
  },
  "language_info": {
   "codemirror_mode": {
    "name": "ipython",
    "version": 3
   },
   "file_extension": ".py",
   "mimetype": "text/x-python",
   "name": "python",
   "nbconvert_exporter": "python",
   "pygments_lexer": "ipython3",
   "version": "3.13.1"
  }
 },
 "nbformat": 4,
 "nbformat_minor": 5
}
