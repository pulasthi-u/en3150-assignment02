{
 "cells": [
  {
   "cell_type": "markdown",
   "id": "2606f853",
   "metadata": {},
   "source": [
    "### Assignment 02"
   ]
  },
  {
   "cell_type": "code",
   "execution_count": 2,
   "id": "f65673e9",
   "metadata": {},
   "outputs": [],
   "source": [
    "# Import the relevant libraries\n",
    "import numpy as np\n",
    "import matplotlib.pyplot as plt"
   ]
  },
  {
   "cell_type": "markdown",
   "id": "9c175538",
   "metadata": {},
   "source": [
    "#### 02 - Logistic Regression"
   ]
  },
  {
   "cell_type": "markdown",
   "id": "ac452957",
   "metadata": {},
   "source": [
    "#### 03 - First and Second Order Methods for Logistic Regression"
   ]
  }
 ],
 "metadata": {
  "kernelspec": {
   "display_name": ".venv",
   "language": "python",
   "name": "python3"
  },
  "language_info": {
   "codemirror_mode": {
    "name": "ipython",
    "version": 3
   },
   "file_extension": ".py",
   "mimetype": "text/x-python",
   "name": "python",
   "nbconvert_exporter": "python",
   "pygments_lexer": "ipython3",
   "version": "3.13.1"
  }
 },
 "nbformat": 4,
 "nbformat_minor": 5
}
