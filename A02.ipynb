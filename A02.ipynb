{
 "cells": [
  {
   "cell_type": "markdown",
   "id": "2606f853",
   "metadata": {},
   "source": [
    "### Assignment 02"
   ]
  },
  {
   "cell_type": "code",
   "execution_count": 510,
   "id": "f65673e9",
   "metadata": {},
   "outputs": [],
   "source": [
    "# Import the relevant libraries and modules\n",
    "import numpy as np\n",
    "import matplotlib.pyplot as plt\n",
    "import seaborn as sns\n",
    "import pandas as pd\n",
    "from sklearn.model_selection import train_test_split\n",
    "from sklearn.preprocessing import LabelEncoder, OneHotEncoder, StandardScaler\n",
    "from sklearn.linear_model import LogisticRegression\n",
    "from sklearn.metrics import accuracy_score\n",
    "from sklearn.datasets import make_blobs"
   ]
  },
  {
   "cell_type": "markdown",
   "id": "9c175538",
   "metadata": {},
   "source": [
    "#### 02 - Logistic Regression"
   ]
  },
  {
   "cell_type": "code",
   "execution_count": 511,
   "id": "aeb54404",
   "metadata": {},
   "outputs": [
    {
     "name": "stdout",
     "output_type": "stream",
     "text": [
      "       species  class_encoded\n",
      "0       Adelie              0\n",
      "1       Adelie              0\n",
      "2       Adelie              0\n",
      "4       Adelie              0\n",
      "5       Adelie              0\n",
      "..         ...            ...\n",
      "215  Chinstrap              1\n",
      "216  Chinstrap              1\n",
      "217  Chinstrap              1\n",
      "218  Chinstrap              1\n",
      "219  Chinstrap              1\n",
      "\n",
      "[214 rows x 2 columns]\n"
     ]
    }
   ],
   "source": [
    "# Load the penguins dataset\n",
    "df = sns.load_dataset(\"penguins\")\n",
    "df.dropna(inplace=True)\n",
    "\n",
    "# Filter rows for 'Adelie' and 'Chinstrap' classes\n",
    "selected_classes = ['Adelie', 'Chinstrap']\n",
    "df_filtered = df[df['species'].isin(selected_classes)].copy() # Make a copy to avoid the warning\n",
    "\n",
    "le = LabelEncoder() # Initialize the LabelEncoder\n",
    "\n",
    "# Encode the species column\n",
    "y_encoded = le.fit_transform(df_filtered['species'])\n",
    "df_filtered['class_encoded'] = y_encoded\n",
    "\n",
    "# Display the filtered and encoded DataFrame\n",
    "print (df_filtered[['species', 'class_encoded']])\n",
    "\n",
    "# Split the data into features (X) and target variable (y)\n",
    "y = df_filtered['class_encoded']\n",
    "\n",
    "# X = df_filtered.drop(['class_encoded'], axis=1)   <---    Causes error. Modified below:\n",
    "\n",
    "X_ = df_filtered.drop(['species', 'sex', 'class_encoded'], axis=1)\n",
    "\n",
    "# Form X_1 by one-hot encoding the island names and including them as new features\n",
    "ohe = OneHotEncoder(sparse_output=False, drop='first', handle_unknown='ignore')\n",
    "islands_encoded = ohe.fit_transform(X_[['island']])\n",
    "X_1 = pd.concat(\n",
    "    [\n",
    "        X_.drop('island', axis=1).reset_index(drop=True),\n",
    "        pd.DataFrame(islands_encoded, columns=ohe.get_feature_names_out(['island']))\n",
    "    ], axis=1\n",
    ")\n",
    "\n",
    "# Form X_2 by simply dropping the 'island' column\n",
    "X_2 = X_.drop(['island'], axis=1)"
   ]
  },
  {
   "cell_type": "code",
   "execution_count": 512,
   "id": "fbc38301",
   "metadata": {},
   "outputs": [
    {
     "name": "stdout",
     "output_type": "stream",
     "text": [
      "Accuracy : 0.5813953488372093\n",
      "[[ 2.76140862e-03 -8.24855282e-05  4.76689108e-04 -2.87311519e-04]] [-8.38232907e-06]\n"
     ]
    },
    {
     "name": "stderr",
     "output_type": "stream",
     "text": [
      "d:\\UoM\\Semester 5\\EN3150 - Pattern Recognition\\Assignment 02\\.venv\\Lib\\site-packages\\sklearn\\linear_model\\_sag.py:348: ConvergenceWarning: The max_iter was reached which means the coef_ did not converge\n",
      "  warnings.warn(\n"
     ]
    }
   ],
   "source": [
    "# Split the data into training and testing sets\n",
    "X_train, X_test, y_train, y_test = train_test_split(X_2, y, test_size=0.2, random_state=42)\n",
    "\n",
    "# Train the logistic regression model. Here we use sagasolver to learn weights.\n",
    "logreg = LogisticRegression(solver='saga')\n",
    "logreg.fit(X_train, y_train)\n",
    "\n",
    "# Predict on the testing data\n",
    "y_pred = logreg.predict(X_test)\n",
    "\n",
    "# Evaluate the model\n",
    "accuracy = accuracy_score(y_test, y_pred)\n",
    "print (\"Accuracy :\", accuracy)\n",
    "print (logreg.coef_, logreg.intercept_)"
   ]
  },
  {
   "cell_type": "code",
   "execution_count": 513,
   "id": "9f100a12",
   "metadata": {},
   "outputs": [
    {
     "name": "stdout",
     "output_type": "stream",
     "text": [
      "Accuracy : 1.0\n",
      "[[ 1.59665154 -1.42501103 -0.15238046 -0.003951  ]] [-0.0755452]\n"
     ]
    }
   ],
   "source": [
    "# Train the logistic regression model again; this time we use liblinear to learn the weights.\n",
    "logreg = LogisticRegression(solver='liblinear')\n",
    "logreg.fit(X_train, y_train)\n",
    "\n",
    "# Predict on the testing data\n",
    "y_pred = logreg.predict(X_test)\n",
    "\n",
    "# Evaluate the model\n",
    "accuracy = accuracy_score(y_test, y_pred)\n",
    "print (\"Accuracy :\", accuracy)\n",
    "print (logreg.coef_, logreg.intercept_)"
   ]
  },
  {
   "cell_type": "code",
   "execution_count": 514,
   "id": "b108b9e5",
   "metadata": {},
   "outputs": [
    {
     "name": "stdout",
     "output_type": "stream",
     "text": [
      "Accuracy with saga : 0.9767441860465116\n",
      "[[ 3.90450237 -0.82352083  0.18540378 -0.73568185]] [-1.96735643]\n",
      "Accuracy with liblinear : 0.9767441860465116\n",
      "[[ 3.77819685 -0.75341497  0.17248526 -0.71597049]] [-1.72205563]\n"
     ]
    }
   ],
   "source": [
    "# Initialize StandardScaler\n",
    "scaler = StandardScaler()\n",
    "\n",
    "# StandardScale the training and test data\n",
    "X_train_scaled = scaler.fit_transform(X_train)\n",
    "X_test_scaled = scaler.transform(X_test)\n",
    "\n",
    "# Run both types of regression on the scaled data\n",
    "for model in ['saga', 'liblinear']:\n",
    "    logreg = LogisticRegression(solver=model)\n",
    "    logreg.fit(X_train_scaled, y_train)\n",
    "\n",
    "    # Predict on the testing data\n",
    "    y_pred = logreg.predict(X_test_scaled)\n",
    "\n",
    "    # Evaluate the model\n",
    "    accuracy = accuracy_score(y_test, y_pred)\n",
    "    print (\"Accuracy with\", model, \":\", accuracy)\n",
    "    print (logreg.coef_, logreg.intercept_)"
   ]
  },
  {
   "cell_type": "markdown",
   "id": "ac452957",
   "metadata": {},
   "source": [
    "#### 03 - First and Second Order Methods for Logistic Regression"
   ]
  },
  {
   "cell_type": "code",
   "execution_count": 515,
   "id": "4d6e1bfd",
   "metadata": {},
   "outputs": [],
   "source": [
    "# Generate synthetic data\n",
    "np.random.seed(0)\n",
    "centers = [[-5, 0], [5, 1.5]]\n",
    "X, y = make_blobs(n_samples=2000, centers=centers, random_state=5)\n",
    "transformation = [[0.5, 0.5], [-0.5, 1.5]]\n",
    "X = np.dot(X, transformation)\n",
    "\n",
    "# Prepend each data point with 1 to incorporate a bias term\n",
    "X = np.hstack([np.ones((X.shape[0], 1)), X])\n",
    "\n",
    "# Reshape y as a column vector\n",
    "y = y.reshape(-1, 1)\n",
    "\n",
    "# Number of data points\n",
    "N = X.shape[0]"
   ]
  },
  {
   "cell_type": "code",
   "execution_count": 516,
   "id": "6c3f1d4d",
   "metadata": {},
   "outputs": [],
   "source": [
    "# Define a function to compute the binary cross entropy\n",
    "def BCE(y, y_hat):\n",
    "    return -(y.T @ np.log(y_hat + 1e-12) + (1 - y).T @ np.log(1 - y_hat + 1e-12))[0]\n",
    "\n",
    "# Define the sigmoid function\n",
    "def sigmoid(z):\n",
    "    return 1 / (1 + np.exp(-z))\n",
    "\n",
    "BGD_losses = []\n",
    "NM_losses = []"
   ]
  },
  {
   "cell_type": "code",
   "execution_count": 517,
   "id": "ce631575",
   "metadata": {},
   "outputs": [],
   "source": [
    "## Batch Gradient Descent\n",
    "\n",
    "# Initialize weights\n",
    "np.random.seed(1)\n",
    "w_BGD = np.zeros((X.shape[1], 1))\n",
    "\n",
    "# Define a learning rate\n",
    "alpha = 2\n",
    "\n",
    "for i in range(20):\n",
    "    # Make predictions\n",
    "    y_hat = sigmoid(X @ w_BGD)\n",
    "\n",
    "    # Compute the gradient\n",
    "    grad = (X.T @ (y - y_hat)) / N\n",
    "\n",
    "    # Update w\n",
    "    w_BGD += alpha * grad\n",
    "\n",
    "    # Compute the loss\n",
    "    BGD_losses.append(BCE(y, y_hat))"
   ]
  },
  {
   "cell_type": "code",
   "execution_count": 518,
   "id": "c17c4c8c",
   "metadata": {},
   "outputs": [],
   "source": [
    "## Newton's Method\n",
    " \n",
    "# Initialize weights\n",
    "np.random.seed(1)\n",
    "w_NM = np.zeros((X.shape[1], 1))\n",
    "\n",
    "# Define a learning rate\n",
    "alpha = 3\n",
    "\n",
    "for i in range(20):\n",
    "    y_hat = sigmoid(X @ w_NM)\n",
    "    \n",
    "    # Compute the gradient\n",
    "    g = (X.T @ (y_hat - y)) / N\n",
    "\n",
    "    # Compute the Hessian\n",
    "    S = np.diagflat(y_hat * (1 - y_hat))\n",
    "    H = (X.T @ S @ X) / N\n",
    "\n",
    "    # Find the step to take and update w\n",
    "    step = np.linalg.solve(H, g)\n",
    "    w_NM -= alpha * step\n",
    "\n",
    "    # Compute the loss\n",
    "    NM_losses.append(BCE(y, y_hat))"
   ]
  },
  {
   "cell_type": "code",
   "execution_count": 519,
   "id": "8387ee68",
   "metadata": {},
   "outputs": [
    {
     "data": {
      "image/png": "[encoded data removed]",
      "text/plain": [
       "<Figure size 800x400 with 1 Axes>"
      ]
     },
     "metadata": {},
     "output_type": "display_data"
    }
   ],
   "source": [
    "plt.figure(figsize=(8, 4))\n",
    "\n",
    "plt.title(\"Loss Against Iterations\")\n",
    "\n",
    "plt.plot(BGD_losses, label=\"Batch Gradient Descent\", marker=\".\")\n",
    "plt.plot(NM_losses, label=\"Newton's Method\", marker=\".\")\n",
    "\n",
    "plt.xlim(0, 20)\n",
    "plt.ylim(-10, 50)\n",
    "plt.xlabel(\"No. Iterations\")\n",
    "plt.ylabel(\"Loss\")\n",
    "plt.xticks(np.arange(0, 21, 1))\n",
    "\n",
    "plt.legend()\n",
    "plt.grid(alpha=0.3)\n",
    "\n",
    "plt.tight_layout()\n",
    "plt.show()"
   ]
  },
  {
   "cell_type": "code",
   "execution_count": 520,
   "id": "792d219c",
   "metadata": {},
   "outputs": [
    {
     "data": {
      "text/plain": [
       "[<matplotlib.lines.Line2D at 0x1c88ce97610>]"
      ]
     },
     "execution_count": 520,
     "metadata": {},
     "output_type": "execute_result"
    },
    {
     "data": {
      "image/png": "[encoded data removed]",
      "text/plain": [
       "<Figure size 640x480 with 1 Axes>"
      ]
     },
     "metadata": {},
     "output_type": "display_data"
    }
   ],
   "source": [
    "plt.scatter(X[:, 1], X[:, 2])\n",
    "x = np.arange(-5, 5, 0.5)\n",
    "y = -(w_BGD[0] + w_BGD[1] * x) / w_BGD[2]\n",
    "plt.plot(x, y)\n",
    "y = -(w_NM[0] + w_NM[1] * x) / w_NM[2]\n",
    "plt.plot(x, y)"
   ]
  },
  {
   "cell_type": "code",
   "execution_count": null,
   "id": "f87bad41",
   "metadata": {},
   "outputs": [],
   "source": [
    "# Generate synthetic data again, with different centers\n",
    "np.random.seed(0)\n",
    "centers = [[2, 2], [5, 1.5]]\n",
    "X, y = make_blobs(n_samples=2000, centers=centers, random_state=5)\n",
    "X = np.dot(X, transformation)\n",
    "\n",
    "# Prepend each data point with 1 to incorporate a bias term\n",
    "X = np.hstack([np.ones((X.shape[0], 1)), X])\n",
    "\n",
    "# Reshape y as a column vector\n",
    "y = y.reshape(-1, 1)\n",
    "\n",
    "# Number of data points\n",
    "N = X.shape[0]"
   ]
  }
 ],
 "metadata": {
  "kernelspec": {
   "display_name": ".venv",
   "language": "python",
   "name": "python3"
  },
  "language_info": {
   "codemirror_mode": {
    "name": "ipython",
    "version": 3
   },
   "file_extension": ".py",
   "mimetype": "text/x-python",
   "name": "python",
   "nbconvert_exporter": "python",
   "pygments_lexer": "ipython3",
   "version": "3.13.1"
  }
 },
 "nbformat": 4,
 "nbformat_minor": 5
}
